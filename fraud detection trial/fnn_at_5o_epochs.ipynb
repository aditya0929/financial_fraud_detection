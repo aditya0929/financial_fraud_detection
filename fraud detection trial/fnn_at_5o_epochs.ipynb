{
  "nbformat": 4,
  "nbformat_minor": 0,
  "metadata": {
    "colab": {
      "provenance": []
    },
    "kernelspec": {
      "name": "python3",
      "display_name": "Python 3"
    },
    "language_info": {
      "name": "python"
    }
  },
  "cells": [
    {
      "cell_type": "code",
      "execution_count": 1,
      "metadata": {
        "id": "D8en45MHy1BG"
      },
      "outputs": [],
      "source": [
        "import pandas as pd\n",
        "from sklearn.model_selection import train_test_split\n",
        "from sklearn.preprocessing import StandardScaler, LabelEncoder\n",
        "from sklearn.metrics import accuracy_score, confusion_matrix, classification_report\n",
        "from keras.models import Sequential\n",
        "from keras.layers import Dense\n",
        "\n",
        "\n"
      ]
    },
    {
      "cell_type": "code",
      "source": [
        "# Load the dataset\n",
        "data = pd.read_csv('/content/TransactionDataset1.csv')\n",
        "\n"
      ],
      "metadata": {
        "id": "5sFYiiSsy2kt"
      },
      "execution_count": 2,
      "outputs": []
    },
    {
      "cell_type": "code",
      "source": [
        "# Drop unnecessary columns\n",
        "drop_columns = ['user_id', 'name', 'addresses', 'email_address', 'transaction_id', 'transaction_date']\n",
        "data = data.drop(drop_columns, axis=1)\n",
        "\n"
      ],
      "metadata": {
        "id": "W5VF22Rjy8gJ"
      },
      "execution_count": 3,
      "outputs": []
    },
    {
      "cell_type": "code",
      "source": [
        "# Convert categorical variables to numerical using Label Encoding\n",
        "label_encoder = LabelEncoder()\n",
        "for column in data.select_dtypes(include=['object']).columns:\n",
        "    data[column] = label_encoder.fit_transform(data[column])\n",
        "\n"
      ],
      "metadata": {
        "id": "ynfEDeoCy-dh"
      },
      "execution_count": 4,
      "outputs": []
    },
    {
      "cell_type": "code",
      "source": [
        "# Split the data into features (X) and target variable (y)\n",
        "X = data.drop('fraud_indicator', axis=1)\n",
        "y = data['fraud_indicator']\n",
        "\n"
      ],
      "metadata": {
        "id": "6EnXitcszBHL"
      },
      "execution_count": 5,
      "outputs": []
    },
    {
      "cell_type": "code",
      "source": [
        "# Split the data into training and testing sets\n",
        "X_train, X_test, y_train, y_test = train_test_split(X, y, test_size=0.2, random_state=42)\n",
        "\n"
      ],
      "metadata": {
        "id": "KqT33vdnzG_U"
      },
      "execution_count": 6,
      "outputs": []
    },
    {
      "cell_type": "code",
      "source": [
        "# Standardize the features\n",
        "scaler = StandardScaler()\n",
        "X_train = scaler.fit_transform(X_train)\n",
        "X_test = scaler.transform(X_test)\n"
      ],
      "metadata": {
        "id": "uo1SLdL1zI9y"
      },
      "execution_count": 7,
      "outputs": []
    },
    {
      "cell_type": "code",
      "source": [
        "\n",
        "# Build the Feedforward Neural Network (FNN) model\n",
        "model = Sequential()\n",
        "model.add(Dense(units=64, input_dim=X_train.shape[1], activation='relu'))\n",
        "model.add(Dense(units=32, activation='relu'))\n",
        "model.add(Dense(units=1, activation='sigmoid'))\n"
      ],
      "metadata": {
        "id": "q-sBTt1tzL8b"
      },
      "execution_count": 8,
      "outputs": []
    },
    {
      "cell_type": "code",
      "source": [
        "\n",
        "# Compile the model\n",
        "model.compile(loss='binary_crossentropy', optimizer='adam', metrics=['accuracy'])\n",
        "\n"
      ],
      "metadata": {
        "id": "URi9K8SqzNgp"
      },
      "execution_count": 9,
      "outputs": []
    },
    {
      "cell_type": "code",
      "source": [
        "# Train the model\n",
        "model.fit(X_train, y_train, epochs=50, batch_size=32, validation_split=0.2)\n",
        "\n"
      ],
      "metadata": {
        "colab": {
          "base_uri": "https://localhost:8080/"
        },
        "id": "br0j7NXGzPmb",
        "outputId": "3c00362f-871c-49a7-9987-e4acc0e1add1"
      },
      "execution_count": 14,
      "outputs": [
        {
          "output_type": "stream",
          "name": "stdout",
          "text": [
            "Epoch 1/50\n",
            "400/400 [==============================] - 2s 5ms/step - loss: 0.1268 - accuracy: 0.9535 - val_loss: 0.1297 - val_accuracy: 0.9497\n",
            "Epoch 2/50\n",
            "400/400 [==============================] - 2s 4ms/step - loss: 0.1230 - accuracy: 0.9541 - val_loss: 0.1289 - val_accuracy: 0.9503\n",
            "Epoch 3/50\n",
            "400/400 [==============================] - 1s 2ms/step - loss: 0.1193 - accuracy: 0.9551 - val_loss: 0.1260 - val_accuracy: 0.9516\n",
            "Epoch 4/50\n",
            "400/400 [==============================] - 1s 2ms/step - loss: 0.1166 - accuracy: 0.9566 - val_loss: 0.1340 - val_accuracy: 0.9444\n",
            "Epoch 5/50\n",
            "400/400 [==============================] - 1s 2ms/step - loss: 0.1127 - accuracy: 0.9576 - val_loss: 0.1205 - val_accuracy: 0.9503\n",
            "Epoch 6/50\n",
            "400/400 [==============================] - 1s 3ms/step - loss: 0.1102 - accuracy: 0.9575 - val_loss: 0.1183 - val_accuracy: 0.9544\n",
            "Epoch 7/50\n",
            "400/400 [==============================] - 1s 3ms/step - loss: 0.1063 - accuracy: 0.9604 - val_loss: 0.1213 - val_accuracy: 0.9494\n",
            "Epoch 8/50\n",
            "400/400 [==============================] - 1s 2ms/step - loss: 0.1032 - accuracy: 0.9618 - val_loss: 0.1312 - val_accuracy: 0.9431\n",
            "Epoch 9/50\n",
            "400/400 [==============================] - 1s 2ms/step - loss: 0.1021 - accuracy: 0.9613 - val_loss: 0.1147 - val_accuracy: 0.9556\n",
            "Epoch 10/50\n",
            "400/400 [==============================] - 1s 2ms/step - loss: 0.0987 - accuracy: 0.9635 - val_loss: 0.1150 - val_accuracy: 0.9531\n",
            "Epoch 11/50\n",
            "400/400 [==============================] - 1s 2ms/step - loss: 0.0961 - accuracy: 0.9637 - val_loss: 0.1123 - val_accuracy: 0.9581\n",
            "Epoch 12/50\n",
            "400/400 [==============================] - 1s 2ms/step - loss: 0.0920 - accuracy: 0.9652 - val_loss: 0.1107 - val_accuracy: 0.9541\n",
            "Epoch 13/50\n",
            "400/400 [==============================] - 1s 2ms/step - loss: 0.0920 - accuracy: 0.9656 - val_loss: 0.1093 - val_accuracy: 0.9591\n",
            "Epoch 14/50\n",
            "400/400 [==============================] - 1s 2ms/step - loss: 0.0887 - accuracy: 0.9660 - val_loss: 0.1059 - val_accuracy: 0.9578\n",
            "Epoch 15/50\n",
            "400/400 [==============================] - 1s 2ms/step - loss: 0.0839 - accuracy: 0.9691 - val_loss: 0.1076 - val_accuracy: 0.9575\n",
            "Epoch 16/50\n",
            "400/400 [==============================] - 1s 2ms/step - loss: 0.0814 - accuracy: 0.9700 - val_loss: 0.1100 - val_accuracy: 0.9553\n",
            "Epoch 17/50\n",
            "400/400 [==============================] - 1s 2ms/step - loss: 0.0807 - accuracy: 0.9690 - val_loss: 0.1060 - val_accuracy: 0.9584\n",
            "Epoch 18/50\n",
            "400/400 [==============================] - 1s 2ms/step - loss: 0.0771 - accuracy: 0.9720 - val_loss: 0.1042 - val_accuracy: 0.9606\n",
            "Epoch 19/50\n",
            "400/400 [==============================] - 1s 2ms/step - loss: 0.0758 - accuracy: 0.9712 - val_loss: 0.1109 - val_accuracy: 0.9553\n",
            "Epoch 20/50\n",
            "400/400 [==============================] - 1s 3ms/step - loss: 0.0737 - accuracy: 0.9717 - val_loss: 0.1026 - val_accuracy: 0.9597\n",
            "Epoch 21/50\n",
            "400/400 [==============================] - 1s 3ms/step - loss: 0.0715 - accuracy: 0.9724 - val_loss: 0.0999 - val_accuracy: 0.9619\n",
            "Epoch 22/50\n",
            "400/400 [==============================] - 1s 3ms/step - loss: 0.0695 - accuracy: 0.9739 - val_loss: 0.0979 - val_accuracy: 0.9616\n",
            "Epoch 23/50\n",
            "400/400 [==============================] - 1s 2ms/step - loss: 0.0673 - accuracy: 0.9751 - val_loss: 0.1060 - val_accuracy: 0.9581\n",
            "Epoch 24/50\n",
            "400/400 [==============================] - 1s 2ms/step - loss: 0.0668 - accuracy: 0.9748 - val_loss: 0.1006 - val_accuracy: 0.9622\n",
            "Epoch 25/50\n",
            "400/400 [==============================] - 1s 2ms/step - loss: 0.0657 - accuracy: 0.9750 - val_loss: 0.0997 - val_accuracy: 0.9616\n",
            "Epoch 26/50\n",
            "400/400 [==============================] - 1s 2ms/step - loss: 0.0631 - accuracy: 0.9774 - val_loss: 0.0937 - val_accuracy: 0.9650\n",
            "Epoch 27/50\n",
            "400/400 [==============================] - 1s 2ms/step - loss: 0.0608 - accuracy: 0.9784 - val_loss: 0.0971 - val_accuracy: 0.9622\n",
            "Epoch 28/50\n",
            "400/400 [==============================] - 1s 2ms/step - loss: 0.0601 - accuracy: 0.9776 - val_loss: 0.1033 - val_accuracy: 0.9619\n",
            "Epoch 29/50\n",
            "400/400 [==============================] - 1s 2ms/step - loss: 0.0592 - accuracy: 0.9774 - val_loss: 0.1005 - val_accuracy: 0.9638\n",
            "Epoch 30/50\n",
            "400/400 [==============================] - 1s 2ms/step - loss: 0.0579 - accuracy: 0.9800 - val_loss: 0.0965 - val_accuracy: 0.9641\n",
            "Epoch 31/50\n",
            "400/400 [==============================] - 1s 2ms/step - loss: 0.0560 - accuracy: 0.9798 - val_loss: 0.0916 - val_accuracy: 0.9650\n",
            "Epoch 32/50\n",
            "400/400 [==============================] - 1s 2ms/step - loss: 0.0554 - accuracy: 0.9804 - val_loss: 0.0936 - val_accuracy: 0.9656\n",
            "Epoch 33/50\n",
            "400/400 [==============================] - 1s 2ms/step - loss: 0.0531 - accuracy: 0.9814 - val_loss: 0.0899 - val_accuracy: 0.9666\n",
            "Epoch 34/50\n",
            "400/400 [==============================] - 1s 2ms/step - loss: 0.0526 - accuracy: 0.9802 - val_loss: 0.0977 - val_accuracy: 0.9675\n",
            "Epoch 35/50\n",
            "400/400 [==============================] - 1s 3ms/step - loss: 0.0516 - accuracy: 0.9816 - val_loss: 0.0929 - val_accuracy: 0.9656\n",
            "Epoch 36/50\n",
            "400/400 [==============================] - 1s 3ms/step - loss: 0.0518 - accuracy: 0.9814 - val_loss: 0.0873 - val_accuracy: 0.9681\n",
            "Epoch 37/50\n",
            "400/400 [==============================] - 1s 3ms/step - loss: 0.0482 - accuracy: 0.9833 - val_loss: 0.0855 - val_accuracy: 0.9706\n",
            "Epoch 38/50\n",
            "400/400 [==============================] - 1s 2ms/step - loss: 0.0479 - accuracy: 0.9821 - val_loss: 0.0969 - val_accuracy: 0.9656\n",
            "Epoch 39/50\n",
            "400/400 [==============================] - 1s 2ms/step - loss: 0.0480 - accuracy: 0.9830 - val_loss: 0.0896 - val_accuracy: 0.9666\n",
            "Epoch 40/50\n",
            "400/400 [==============================] - 1s 2ms/step - loss: 0.0454 - accuracy: 0.9837 - val_loss: 0.0864 - val_accuracy: 0.9709\n",
            "Epoch 41/50\n",
            "400/400 [==============================] - 1s 2ms/step - loss: 0.0447 - accuracy: 0.9848 - val_loss: 0.0942 - val_accuracy: 0.9688\n",
            "Epoch 42/50\n",
            "400/400 [==============================] - 1s 2ms/step - loss: 0.0441 - accuracy: 0.9846 - val_loss: 0.0904 - val_accuracy: 0.9675\n",
            "Epoch 43/50\n",
            "400/400 [==============================] - 1s 2ms/step - loss: 0.0439 - accuracy: 0.9852 - val_loss: 0.0855 - val_accuracy: 0.9706\n",
            "Epoch 44/50\n",
            "400/400 [==============================] - 1s 2ms/step - loss: 0.0425 - accuracy: 0.9851 - val_loss: 0.0941 - val_accuracy: 0.9669\n",
            "Epoch 45/50\n",
            "400/400 [==============================] - 1s 2ms/step - loss: 0.0412 - accuracy: 0.9869 - val_loss: 0.0863 - val_accuracy: 0.9703\n",
            "Epoch 46/50\n",
            "400/400 [==============================] - 1s 2ms/step - loss: 0.0418 - accuracy: 0.9851 - val_loss: 0.0889 - val_accuracy: 0.9684\n",
            "Epoch 47/50\n",
            "400/400 [==============================] - 1s 2ms/step - loss: 0.0397 - accuracy: 0.9855 - val_loss: 0.0930 - val_accuracy: 0.9656\n",
            "Epoch 48/50\n",
            "400/400 [==============================] - 1s 2ms/step - loss: 0.0420 - accuracy: 0.9852 - val_loss: 0.0909 - val_accuracy: 0.9697\n",
            "Epoch 49/50\n",
            "400/400 [==============================] - 1s 2ms/step - loss: 0.0411 - accuracy: 0.9852 - val_loss: 0.0907 - val_accuracy: 0.9706\n",
            "Epoch 50/50\n",
            "400/400 [==============================] - 1s 3ms/step - loss: 0.0372 - accuracy: 0.9872 - val_loss: 0.0952 - val_accuracy: 0.9675\n"
          ]
        },
        {
          "output_type": "execute_result",
          "data": {
            "text/plain": [
              "<keras.src.callbacks.History at 0x79239261a980>"
            ]
          },
          "metadata": {},
          "execution_count": 14
        }
      ]
    },
    {
      "cell_type": "code",
      "source": [
        "# Make predictions on the test set\n",
        "y_pred_proba = model.predict(X_test)\n",
        "y_pred = (y_pred_proba > 0.5).astype(int)\n",
        "\n"
      ],
      "metadata": {
        "colab": {
          "base_uri": "https://localhost:8080/"
        },
        "id": "RCu9VnYEzRDJ",
        "outputId": "d9ff69e1-cab6-4fb5-bfcf-6b749235458d"
      },
      "execution_count": 15,
      "outputs": [
        {
          "output_type": "stream",
          "name": "stdout",
          "text": [
            "125/125 [==============================] - 0s 1ms/step\n"
          ]
        }
      ]
    },
    {
      "cell_type": "code",
      "source": [
        "# Evaluate the model\n",
        "accuracy = accuracy_score(y_test, y_pred)\n",
        "conf_matrix = confusion_matrix(y_test, y_pred)\n",
        "classification_rep = classification_report(y_test, y_pred)\n"
      ],
      "metadata": {
        "id": "KMGFLtWPzSrR"
      },
      "execution_count": 16,
      "outputs": []
    },
    {
      "cell_type": "code",
      "source": [
        "\n",
        "# Display results\n",
        "print(f'Accuracy: {accuracy:.2f}')\n",
        "print('Confusion Matrix:')\n",
        "print(conf_matrix)\n",
        "print('Classification Report:')\n",
        "print(classification_rep)"
      ],
      "metadata": {
        "colab": {
          "base_uri": "https://localhost:8080/"
        },
        "id": "HYA0mIk8zUYm",
        "outputId": "e36113d1-e2fa-48cf-d4bd-a5b7b85a8a85"
      },
      "execution_count": 17,
      "outputs": [
        {
          "output_type": "stream",
          "name": "stdout",
          "text": [
            "Accuracy: 0.97\n",
            "Confusion Matrix:\n",
            "[[2520   42]\n",
            " [  77 1361]]\n",
            "Classification Report:\n",
            "              precision    recall  f1-score   support\n",
            "\n",
            "           0       0.97      0.98      0.98      2562\n",
            "           1       0.97      0.95      0.96      1438\n",
            "\n",
            "    accuracy                           0.97      4000\n",
            "   macro avg       0.97      0.97      0.97      4000\n",
            "weighted avg       0.97      0.97      0.97      4000\n",
            "\n"
          ]
        }
      ]
    }
  ]
}