{
  "nbformat": 4,
  "nbformat_minor": 0,
  "metadata": {
    "colab": {
      "provenance": []
    },
    "kernelspec": {
      "name": "python3",
      "display_name": "Python 3"
    },
    "language_info": {
      "name": "python"
    }
  },
  "cells": [
    {
      "cell_type": "code",
      "execution_count": 2,
      "metadata": {
        "id": "y0fA2l3k0FqA"
      },
      "outputs": [],
      "source": [
        "import pandas as pd\n",
        "import numpy as np\n",
        "from sklearn.model_selection import train_test_split\n",
        "from sklearn.preprocessing import StandardScaler, LabelEncoder\n",
        "from sklearn.metrics import accuracy_score, confusion_matrix, classification_report\n",
        "from keras.models import Sequential\n",
        "from keras.layers import SimpleRNN, Dense\n",
        "\n"
      ]
    },
    {
      "cell_type": "code",
      "source": [
        "# Load the dataset\n",
        "data = pd.read_csv('/content/TransactionDataset1.csv')\n",
        "\n"
      ],
      "metadata": {
        "id": "dRuiEGOG0JVY"
      },
      "execution_count": 3,
      "outputs": []
    },
    {
      "cell_type": "code",
      "source": [
        "\n",
        "# Drop unnecessary columns\n",
        "drop_columns = ['user_id', 'name', 'addresses', 'email_address', 'transaction_id', 'transaction_date']\n",
        "data = data.drop(drop_columns, axis=1)\n",
        "\n"
      ],
      "metadata": {
        "id": "Jwz9nDoo0Lsc"
      },
      "execution_count": 4,
      "outputs": []
    },
    {
      "cell_type": "code",
      "source": [
        "# Convert categorical variables to numerical using Label Encoding\n",
        "label_encoder = LabelEncoder()\n",
        "for column in data.select_dtypes(include=['object']).columns:\n",
        "    data[column] = label_encoder.fit_transform(data[column])\n",
        "\n"
      ],
      "metadata": {
        "id": "wdKK0sYk0NWp"
      },
      "execution_count": 5,
      "outputs": []
    },
    {
      "cell_type": "code",
      "source": [
        "# Split the data into features (X) and target variable (y)\n",
        "X = data.drop('fraud_indicator', axis=1)\n",
        "y = data['fraud_indicator']\n",
        "\n"
      ],
      "metadata": {
        "id": "lc5mYyB-0SWN"
      },
      "execution_count": 6,
      "outputs": []
    },
    {
      "cell_type": "code",
      "source": [
        "# Split the data into training and testing sets\n",
        "X_train, X_test, y_train, y_test = train_test_split(X, y, test_size=0.2, random_state=42)\n"
      ],
      "metadata": {
        "id": "sicQ8HiO0Ul4"
      },
      "execution_count": 7,
      "outputs": []
    },
    {
      "cell_type": "code",
      "source": [
        "\n",
        "# Standardize the features\n",
        "scaler = StandardScaler()\n",
        "X_train = scaler.fit_transform(X_train)\n",
        "X_test = scaler.transform(X_test)\n"
      ],
      "metadata": {
        "id": "2Hxxthht0WdV"
      },
      "execution_count": 8,
      "outputs": []
    },
    {
      "cell_type": "code",
      "source": [
        "\n",
        "# Reshape the data for RNN\n",
        "X_train_rnn = X_train.reshape((X_train.shape[0], 1, X_train.shape[1]))\n",
        "X_test_rnn = X_test.reshape((X_test.shape[0], 1, X_test.shape[1]))\n"
      ],
      "metadata": {
        "id": "9Up0WxyW0YQV"
      },
      "execution_count": 9,
      "outputs": []
    },
    {
      "cell_type": "code",
      "source": [
        "\n",
        "# Build the RNN model\n",
        "model = Sequential()\n",
        "model.add(SimpleRNN(units=64, activation='relu', input_shape=(1, X_train.shape[1])))\n",
        "model.add(Dense(units=32, activation='relu'))\n",
        "model.add(Dense(units=1, activation='sigmoid'))\n"
      ],
      "metadata": {
        "id": "poibdWew0as0"
      },
      "execution_count": 10,
      "outputs": []
    },
    {
      "cell_type": "code",
      "source": [
        "\n",
        "# Compile the model\n",
        "model.compile(loss='binary_crossentropy', optimizer='adam', metrics=['accuracy'])\n",
        "\n"
      ],
      "metadata": {
        "id": "0OUOUttj0fDT"
      },
      "execution_count": 11,
      "outputs": []
    },
    {
      "cell_type": "code",
      "source": [
        "# Train the model\n",
        "model.fit(X_train_rnn, y_train, epochs=50, batch_size=32, validation_split=0.2)\n",
        "\n"
      ],
      "metadata": {
        "colab": {
          "base_uri": "https://localhost:8080/"
        },
        "id": "sCqOow330f-R",
        "outputId": "0bd5ed73-4253-42c5-f5a3-52e2d6c65bb1"
      },
      "execution_count": 16,
      "outputs": [
        {
          "output_type": "stream",
          "name": "stdout",
          "text": [
            "Epoch 1/50\n",
            "400/400 [==============================] - 2s 4ms/step - loss: 0.1240 - accuracy: 0.9542 - val_loss: 0.1344 - val_accuracy: 0.9513\n",
            "Epoch 2/50\n",
            "400/400 [==============================] - 1s 3ms/step - loss: 0.1210 - accuracy: 0.9555 - val_loss: 0.1319 - val_accuracy: 0.9503\n",
            "Epoch 3/50\n",
            "400/400 [==============================] - 1s 3ms/step - loss: 0.1175 - accuracy: 0.9562 - val_loss: 0.1286 - val_accuracy: 0.9497\n",
            "Epoch 4/50\n",
            "400/400 [==============================] - 1s 3ms/step - loss: 0.1124 - accuracy: 0.9588 - val_loss: 0.1272 - val_accuracy: 0.9544\n",
            "Epoch 5/50\n",
            "400/400 [==============================] - 1s 3ms/step - loss: 0.1092 - accuracy: 0.9603 - val_loss: 0.1199 - val_accuracy: 0.9553\n",
            "Epoch 6/50\n",
            "400/400 [==============================] - 1s 3ms/step - loss: 0.1048 - accuracy: 0.9612 - val_loss: 0.1228 - val_accuracy: 0.9500\n",
            "Epoch 7/50\n",
            "400/400 [==============================] - 2s 4ms/step - loss: 0.1029 - accuracy: 0.9616 - val_loss: 0.1164 - val_accuracy: 0.9563\n",
            "Epoch 8/50\n",
            "400/400 [==============================] - 2s 4ms/step - loss: 0.0982 - accuracy: 0.9630 - val_loss: 0.1121 - val_accuracy: 0.9578\n",
            "Epoch 9/50\n",
            "400/400 [==============================] - 1s 3ms/step - loss: 0.0951 - accuracy: 0.9638 - val_loss: 0.1098 - val_accuracy: 0.9572\n",
            "Epoch 10/50\n",
            "400/400 [==============================] - 1s 3ms/step - loss: 0.0911 - accuracy: 0.9651 - val_loss: 0.1100 - val_accuracy: 0.9572\n",
            "Epoch 11/50\n",
            "400/400 [==============================] - 1s 3ms/step - loss: 0.0874 - accuracy: 0.9677 - val_loss: 0.1049 - val_accuracy: 0.9591\n",
            "Epoch 12/50\n",
            "400/400 [==============================] - 1s 3ms/step - loss: 0.0848 - accuracy: 0.9670 - val_loss: 0.1066 - val_accuracy: 0.9559\n",
            "Epoch 13/50\n",
            "400/400 [==============================] - 1s 3ms/step - loss: 0.0820 - accuracy: 0.9683 - val_loss: 0.1041 - val_accuracy: 0.9609\n",
            "Epoch 14/50\n",
            "400/400 [==============================] - 1s 3ms/step - loss: 0.0778 - accuracy: 0.9706 - val_loss: 0.1010 - val_accuracy: 0.9609\n",
            "Epoch 15/50\n",
            "400/400 [==============================] - 1s 3ms/step - loss: 0.0753 - accuracy: 0.9712 - val_loss: 0.1109 - val_accuracy: 0.9594\n",
            "Epoch 16/50\n",
            "400/400 [==============================] - 1s 3ms/step - loss: 0.0739 - accuracy: 0.9722 - val_loss: 0.0974 - val_accuracy: 0.9634\n",
            "Epoch 17/50\n",
            "400/400 [==============================] - 1s 3ms/step - loss: 0.0711 - accuracy: 0.9728 - val_loss: 0.0988 - val_accuracy: 0.9634\n",
            "Epoch 18/50\n",
            "400/400 [==============================] - 2s 4ms/step - loss: 0.0685 - accuracy: 0.9745 - val_loss: 0.0996 - val_accuracy: 0.9613\n",
            "Epoch 19/50\n",
            "400/400 [==============================] - 2s 4ms/step - loss: 0.0662 - accuracy: 0.9752 - val_loss: 0.0936 - val_accuracy: 0.9644\n",
            "Epoch 20/50\n",
            "400/400 [==============================] - 1s 3ms/step - loss: 0.0646 - accuracy: 0.9757 - val_loss: 0.0924 - val_accuracy: 0.9641\n",
            "Epoch 21/50\n",
            "400/400 [==============================] - 1s 3ms/step - loss: 0.0640 - accuracy: 0.9755 - val_loss: 0.0973 - val_accuracy: 0.9659\n",
            "Epoch 22/50\n",
            "400/400 [==============================] - 1s 3ms/step - loss: 0.0619 - accuracy: 0.9780 - val_loss: 0.0947 - val_accuracy: 0.9653\n",
            "Epoch 23/50\n",
            "400/400 [==============================] - 1s 3ms/step - loss: 0.0594 - accuracy: 0.9784 - val_loss: 0.0928 - val_accuracy: 0.9650\n",
            "Epoch 24/50\n",
            "400/400 [==============================] - 1s 3ms/step - loss: 0.0575 - accuracy: 0.9787 - val_loss: 0.0874 - val_accuracy: 0.9684\n",
            "Epoch 25/50\n",
            "400/400 [==============================] - 1s 3ms/step - loss: 0.0560 - accuracy: 0.9803 - val_loss: 0.0888 - val_accuracy: 0.9669\n",
            "Epoch 26/50\n",
            "400/400 [==============================] - 1s 3ms/step - loss: 0.0556 - accuracy: 0.9795 - val_loss: 0.0873 - val_accuracy: 0.9697\n",
            "Epoch 27/50\n",
            "400/400 [==============================] - 1s 3ms/step - loss: 0.0522 - accuracy: 0.9817 - val_loss: 0.0833 - val_accuracy: 0.9684\n",
            "Epoch 28/50\n",
            "400/400 [==============================] - 1s 3ms/step - loss: 0.0529 - accuracy: 0.9811 - val_loss: 0.0929 - val_accuracy: 0.9666\n",
            "Epoch 29/50\n",
            "400/400 [==============================] - 1s 3ms/step - loss: 0.0513 - accuracy: 0.9823 - val_loss: 0.0862 - val_accuracy: 0.9669\n",
            "Epoch 30/50\n",
            "400/400 [==============================] - 2s 4ms/step - loss: 0.0498 - accuracy: 0.9827 - val_loss: 0.0869 - val_accuracy: 0.9694\n",
            "Epoch 31/50\n",
            "400/400 [==============================] - 2s 4ms/step - loss: 0.0478 - accuracy: 0.9821 - val_loss: 0.0845 - val_accuracy: 0.9688\n",
            "Epoch 32/50\n",
            "400/400 [==============================] - 1s 3ms/step - loss: 0.0482 - accuracy: 0.9830 - val_loss: 0.0885 - val_accuracy: 0.9678\n",
            "Epoch 33/50\n",
            "400/400 [==============================] - 1s 3ms/step - loss: 0.0485 - accuracy: 0.9827 - val_loss: 0.1067 - val_accuracy: 0.9659\n",
            "Epoch 34/50\n",
            "400/400 [==============================] - 1s 3ms/step - loss: 0.0454 - accuracy: 0.9842 - val_loss: 0.0869 - val_accuracy: 0.9691\n",
            "Epoch 35/50\n",
            "400/400 [==============================] - 1s 3ms/step - loss: 0.0435 - accuracy: 0.9846 - val_loss: 0.0923 - val_accuracy: 0.9681\n",
            "Epoch 36/50\n",
            "400/400 [==============================] - 1s 3ms/step - loss: 0.0441 - accuracy: 0.9845 - val_loss: 0.0861 - val_accuracy: 0.9703\n",
            "Epoch 37/50\n",
            "400/400 [==============================] - 1s 3ms/step - loss: 0.0429 - accuracy: 0.9853 - val_loss: 0.0872 - val_accuracy: 0.9684\n",
            "Epoch 38/50\n",
            "400/400 [==============================] - 1s 3ms/step - loss: 0.0407 - accuracy: 0.9871 - val_loss: 0.0854 - val_accuracy: 0.9694\n",
            "Epoch 39/50\n",
            "400/400 [==============================] - 1s 3ms/step - loss: 0.0408 - accuracy: 0.9862 - val_loss: 0.0812 - val_accuracy: 0.9700\n",
            "Epoch 40/50\n",
            "400/400 [==============================] - 1s 3ms/step - loss: 0.0392 - accuracy: 0.9864 - val_loss: 0.0843 - val_accuracy: 0.9709\n",
            "Epoch 41/50\n",
            "400/400 [==============================] - 2s 4ms/step - loss: 0.0385 - accuracy: 0.9870 - val_loss: 0.0817 - val_accuracy: 0.9728\n",
            "Epoch 42/50\n",
            "400/400 [==============================] - 2s 4ms/step - loss: 0.0377 - accuracy: 0.9875 - val_loss: 0.1117 - val_accuracy: 0.9663\n",
            "Epoch 43/50\n",
            "400/400 [==============================] - 1s 3ms/step - loss: 0.0421 - accuracy: 0.9850 - val_loss: 0.0824 - val_accuracy: 0.9703\n",
            "Epoch 44/50\n",
            "400/400 [==============================] - 1s 3ms/step - loss: 0.0353 - accuracy: 0.9886 - val_loss: 0.1070 - val_accuracy: 0.9675\n",
            "Epoch 45/50\n",
            "400/400 [==============================] - 1s 3ms/step - loss: 0.0387 - accuracy: 0.9865 - val_loss: 0.0906 - val_accuracy: 0.9691\n",
            "Epoch 46/50\n",
            "400/400 [==============================] - 1s 3ms/step - loss: 0.0355 - accuracy: 0.9879 - val_loss: 0.0841 - val_accuracy: 0.9706\n",
            "Epoch 47/50\n",
            "400/400 [==============================] - 1s 3ms/step - loss: 0.0365 - accuracy: 0.9886 - val_loss: 0.0821 - val_accuracy: 0.9719\n",
            "Epoch 48/50\n",
            "400/400 [==============================] - 1s 3ms/step - loss: 0.0322 - accuracy: 0.9902 - val_loss: 0.0838 - val_accuracy: 0.9684\n",
            "Epoch 49/50\n",
            "400/400 [==============================] - 1s 3ms/step - loss: 0.0337 - accuracy: 0.9890 - val_loss: 0.0879 - val_accuracy: 0.9709\n",
            "Epoch 50/50\n",
            "400/400 [==============================] - 1s 3ms/step - loss: 0.0343 - accuracy: 0.9880 - val_loss: 0.0898 - val_accuracy: 0.9709\n"
          ]
        },
        {
          "output_type": "execute_result",
          "data": {
            "text/plain": [
              "<keras.src.callbacks.History at 0x79f926a16f20>"
            ]
          },
          "metadata": {},
          "execution_count": 16
        }
      ]
    },
    {
      "cell_type": "code",
      "source": [
        "# Make predictions on the test set\n",
        "y_pred_proba = model.predict(X_test_rnn)\n",
        "y_pred = (y_pred_proba > 0.5).astype(int)\n"
      ],
      "metadata": {
        "colab": {
          "base_uri": "https://localhost:8080/"
        },
        "id": "_J8vdEtf0hl3",
        "outputId": "20da6665-f588-44d4-e1a5-07bbd22c216e"
      },
      "execution_count": 17,
      "outputs": [
        {
          "output_type": "stream",
          "name": "stdout",
          "text": [
            "125/125 [==============================] - 0s 2ms/step\n"
          ]
        }
      ]
    },
    {
      "cell_type": "code",
      "source": [
        "\n",
        "# Evaluate the model\n",
        "accuracy = accuracy_score(y_test, y_pred)\n",
        "conf_matrix = confusion_matrix(y_test, y_pred)\n",
        "classification_rep = classification_report(y_test, y_pred)\n",
        "\n"
      ],
      "metadata": {
        "id": "yLXQG1eN0jD1"
      },
      "execution_count": 18,
      "outputs": []
    },
    {
      "cell_type": "code",
      "source": [
        "# Display results\n",
        "print(f'Accuracy: {accuracy:.2f}')\n",
        "print('Confusion Matrix:')\n",
        "print(conf_matrix)\n",
        "print('Classification Report:')\n",
        "print(classification_rep)"
      ],
      "metadata": {
        "colab": {
          "base_uri": "https://localhost:8080/"
        },
        "id": "CCIjhehQ0kaU",
        "outputId": "183c8860-983d-4758-dfc4-8b7755324190"
      },
      "execution_count": 19,
      "outputs": [
        {
          "output_type": "stream",
          "name": "stdout",
          "text": [
            "Accuracy: 0.97\n",
            "Confusion Matrix:\n",
            "[[2523   39]\n",
            " [  89 1349]]\n",
            "Classification Report:\n",
            "              precision    recall  f1-score   support\n",
            "\n",
            "           0       0.97      0.98      0.98      2562\n",
            "           1       0.97      0.94      0.95      1438\n",
            "\n",
            "    accuracy                           0.97      4000\n",
            "   macro avg       0.97      0.96      0.96      4000\n",
            "weighted avg       0.97      0.97      0.97      4000\n",
            "\n"
          ]
        }
      ]
    }
  ]
}