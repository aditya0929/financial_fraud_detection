{
  "nbformat": 4,
  "nbformat_minor": 0,
  "metadata": {
    "colab": {
      "provenance": []
    },
    "kernelspec": {
      "name": "python3",
      "display_name": "Python 3"
    },
    "language_info": {
      "name": "python"
    }
  },
  "cells": [
    {
      "cell_type": "code",
      "execution_count": 1,
      "metadata": {
        "id": "0HX6M-LHYQpy"
      },
      "outputs": [],
      "source": [
        "import pandas as pd\n",
        "from sklearn.model_selection import train_test_split\n",
        "from sklearn.preprocessing import StandardScaler, LabelEncoder\n",
        "from sklearn.metrics import accuracy_score, confusion_matrix, classification_report\n",
        "from keras.models import Sequential\n",
        "from keras.layers import Dense\n",
        "\n"
      ]
    },
    {
      "cell_type": "code",
      "source": [
        "# Load the dataset\n",
        "data = pd.read_csv('/content/TransactionDataset1.csv')\n",
        "\n",
        "\n"
      ],
      "metadata": {
        "id": "mW-J3RuMYVK8"
      },
      "execution_count": 2,
      "outputs": []
    },
    {
      "cell_type": "code",
      "source": [
        "# Drop unnecessary columns\n",
        "drop_columns = ['user_id', 'name', 'addresses', 'email_address', 'transaction_id', 'transaction_date']\n",
        "data = data.drop(drop_columns, axis=1)\n",
        "\n"
      ],
      "metadata": {
        "id": "uhHSO2cjYaq9"
      },
      "execution_count": 3,
      "outputs": []
    },
    {
      "cell_type": "code",
      "source": [
        "# Convert categorical variables to numerical using Label Encoding\n",
        "label_encoder = LabelEncoder()\n",
        "for column in data.select_dtypes(include=['object']).columns:\n",
        "    data[column] = label_encoder.fit_transform(data[column])\n",
        "\n"
      ],
      "metadata": {
        "id": "5nlHgaulYdLT"
      },
      "execution_count": 4,
      "outputs": []
    },
    {
      "cell_type": "code",
      "source": [
        "# Split the data into features (X) and target variable (y)\n",
        "X = data.drop('fraud_indicator', axis=1)\n",
        "y = data['fraud_indicator']\n",
        "\n",
        "# Split the data into training and testing sets\n",
        "X_train, X_test, y_train, y_test = train_test_split(X, y, test_size=0.2, random_state=42)\n",
        "\n"
      ],
      "metadata": {
        "id": "SZDtc9SOYjz3"
      },
      "execution_count": 5,
      "outputs": []
    },
    {
      "cell_type": "code",
      "source": [
        "# Standardize the features\n",
        "scaler = StandardScaler()\n",
        "X_train = scaler.fit_transform(X_train)\n",
        "X_test = scaler.transform(X_test)\n",
        "\n"
      ],
      "metadata": {
        "id": "BWvvjqrjYmdN"
      },
      "execution_count": 6,
      "outputs": []
    },
    {
      "cell_type": "code",
      "source": [
        "# Build the neural network model\n",
        "model = Sequential()\n",
        "model.add(Dense(units=64, input_dim=X_train.shape[1], activation='relu'))\n",
        "model.add(Dense(units=32, activation='relu'))\n",
        "model.add(Dense(units=1, activation='sigmoid'))\n",
        "\n"
      ],
      "metadata": {
        "id": "buQwgSQnYqP-"
      },
      "execution_count": 7,
      "outputs": []
    },
    {
      "cell_type": "code",
      "source": [
        "# Compile the model\n",
        "model.compile(loss='binary_crossentropy', optimizer='adam', metrics=['accuracy'])\n",
        "\n"
      ],
      "metadata": {
        "id": "0YgmQX0LYs93"
      },
      "execution_count": 8,
      "outputs": []
    },
    {
      "cell_type": "code",
      "source": [
        "# Train the model\n",
        "model.fit(X_train, y_train, epochs=10, batch_size=32, validation_split=0.2)\n",
        "\n"
      ],
      "metadata": {
        "colab": {
          "base_uri": "https://localhost:8080/"
        },
        "id": "YP4hIfqPYvz1",
        "outputId": "0d337254-60c1-47b6-dc60-6d2072f4eda6"
      },
      "execution_count": 9,
      "outputs": [
        {
          "output_type": "stream",
          "name": "stdout",
          "text": [
            "Epoch 1/10\n",
            "400/400 [==============================] - 2s 3ms/step - loss: 0.2827 - accuracy: 0.8813 - val_loss: 0.2178 - val_accuracy: 0.9091\n",
            "Epoch 2/10\n",
            "400/400 [==============================] - 1s 2ms/step - loss: 0.2017 - accuracy: 0.9173 - val_loss: 0.1888 - val_accuracy: 0.9216\n",
            "Epoch 3/10\n",
            "400/400 [==============================] - 1s 2ms/step - loss: 0.1831 - accuracy: 0.9266 - val_loss: 0.1732 - val_accuracy: 0.9316\n",
            "Epoch 4/10\n",
            "400/400 [==============================] - 1s 2ms/step - loss: 0.1708 - accuracy: 0.9320 - val_loss: 0.1664 - val_accuracy: 0.9319\n",
            "Epoch 5/10\n",
            "400/400 [==============================] - 3s 7ms/step - loss: 0.1615 - accuracy: 0.9366 - val_loss: 0.1653 - val_accuracy: 0.9306\n",
            "Epoch 6/10\n",
            "400/400 [==============================] - 3s 7ms/step - loss: 0.1532 - accuracy: 0.9396 - val_loss: 0.1541 - val_accuracy: 0.9378\n",
            "Epoch 7/10\n",
            "400/400 [==============================] - 3s 7ms/step - loss: 0.1460 - accuracy: 0.9444 - val_loss: 0.1497 - val_accuracy: 0.9416\n",
            "Epoch 8/10\n",
            "400/400 [==============================] - 2s 5ms/step - loss: 0.1404 - accuracy: 0.9471 - val_loss: 0.1481 - val_accuracy: 0.9381\n",
            "Epoch 9/10\n",
            "400/400 [==============================] - 2s 5ms/step - loss: 0.1348 - accuracy: 0.9486 - val_loss: 0.1373 - val_accuracy: 0.9463\n",
            "Epoch 10/10\n",
            "400/400 [==============================] - 1s 2ms/step - loss: 0.1290 - accuracy: 0.9513 - val_loss: 0.1362 - val_accuracy: 0.9444\n"
          ]
        },
        {
          "output_type": "execute_result",
          "data": {
            "text/plain": [
              "<keras.src.callbacks.History at 0x79227a2d2890>"
            ]
          },
          "metadata": {},
          "execution_count": 9
        }
      ]
    },
    {
      "cell_type": "code",
      "source": [
        "# Make predictions on the test set\n",
        "y_pred_proba = model.predict(X_test)\n",
        "y_pred = (y_pred_proba > 0.5).astype(int)\n",
        "\n"
      ],
      "metadata": {
        "colab": {
          "base_uri": "https://localhost:8080/"
        },
        "id": "WKb_KzY-YyrZ",
        "outputId": "407b6669-057e-4998-9ecb-b53939e580cd"
      },
      "execution_count": 10,
      "outputs": [
        {
          "output_type": "stream",
          "name": "stdout",
          "text": [
            "125/125 [==============================] - 0s 1ms/step\n"
          ]
        }
      ]
    },
    {
      "cell_type": "code",
      "source": [
        "# Evaluate the model\n",
        "accuracy = accuracy_score(y_test, y_pred)\n",
        "conf_matrix = confusion_matrix(y_test, y_pred)\n",
        "classification_rep = classification_report(y_test, y_pred)\n",
        "\n"
      ],
      "metadata": {
        "id": "MnhP02cNY1AE"
      },
      "execution_count": 11,
      "outputs": []
    },
    {
      "cell_type": "code",
      "source": [
        "# Display results\n",
        "print(f'Accuracy: {accuracy:.2f}')\n",
        "print('Confusion Matrix:')\n",
        "print(conf_matrix)\n",
        "print('Classification Report:')\n",
        "print(classification_rep)"
      ],
      "metadata": {
        "colab": {
          "base_uri": "https://localhost:8080/"
        },
        "id": "U1sQkS7iY4yF",
        "outputId": "e7e1b496-5ba5-4d92-b7c0-1c97d4efba01"
      },
      "execution_count": 12,
      "outputs": [
        {
          "output_type": "stream",
          "name": "stdout",
          "text": [
            "Accuracy: 0.94\n",
            "Confusion Matrix:\n",
            "[[2475   87]\n",
            " [ 142 1296]]\n",
            "Classification Report:\n",
            "              precision    recall  f1-score   support\n",
            "\n",
            "           0       0.95      0.97      0.96      2562\n",
            "           1       0.94      0.90      0.92      1438\n",
            "\n",
            "    accuracy                           0.94      4000\n",
            "   macro avg       0.94      0.93      0.94      4000\n",
            "weighted avg       0.94      0.94      0.94      4000\n",
            "\n"
          ]
        }
      ]
    }
  ]
}